{
 "cells": [
  {
   "cell_type": "code",
   "execution_count": 1,
   "metadata": {},
   "outputs": [
    {
     "name": "stdout",
     "output_type": "stream",
     "text": [
      "Enter number of students you wish to enter data for: 1\n",
      "Enter name:Sam\n",
      "Enter class:12\n",
      "Enter height:188\n",
      "Enter weight:75\n",
      "Enter preferred sport:Cricket\n",
      "[12, 188.0, 75.0, 'Cricket']\n",
      "Preferred sport is:  chess\n",
      "Diet Plan:  ['more fiber-rich diet', '2000 calories per day', 'morning walks', 'sudo-like brain exercises']\n"
     ]
    }
   ],
   "source": [
    "students={}\n",
    "n=int(input(\"Enter number of students you wish to enter data for: \"))\n",
    "\n",
    "for i in range(n):\n",
    "    name=str(input(\"Enter name:\"))\n",
    "    std=int(input(\"Enter class:\"))\n",
    "    height=float(input(\"Enter height:\"))\n",
    "    weight=float(input(\"Enter weight:\"))\n",
    "    pref_sport=str(input(\"Enter preferred sport:\"))\n",
    "    students[name]=[std,height,weight,pref_sport]\n",
    "    print(students[name])\n",
    "\n",
    "def find_preferred_sport(name):\n",
    "    std=students[name][0]\n",
    "    height=students[name][1]\n",
    "    weight=students[name][2]\n",
    "    agility=height//weight\n",
    "    speed=height//2\n",
    "    strength=(weight*1.5)+std\n",
    "    if(speed>agility>strength and std>10):\n",
    "        pref_sport='cricket'\n",
    "        diet_plan=['more carbohydrate-rich diet','chapatis', 'rice', '2100 calories per day', 'daily warmups']\n",
    "    elif(agility>strength>speed):\n",
    "        pref_sport='football'\n",
    "        diet_plan=['more protein-rich diet', 'dairy products: milk, paneer', '2500 calories per day', 'daily morning jogs']\n",
    "    elif(strength>agility>speed):\n",
    "        pref_sport='javelin throw'\n",
    "        diet_plan=['recommended:protein shake', '2700 calories per day', 'eggs or bacon for breakfast']\n",
    "    else:\n",
    "        pref_sport='chess'\n",
    "        diet_plan=['more fiber-rich diet', '2000 calories per day', 'morning walks', 'sudo-like brain exercises']\n",
    "    return pref_sport, diet_plan\n",
    "\n",
    "sport, diet=find_preferred_sport(\"Sam\")\n",
    "print(\"Preferred sport is: \",sport)\n",
    "print(\"Diet Plan: \",diet)\n",
    "#print (students.items())"
   ]
  },
  {
   "cell_type": "code",
   "execution_count": null,
   "metadata": {},
   "outputs": [],
   "source": []
  }
 ],
 "metadata": {
  "kernelspec": {
   "display_name": "Python 3",
   "language": "python",
   "name": "python3"
  },
  "language_info": {
   "codemirror_mode": {
    "name": "ipython",
    "version": 3
   },
   "file_extension": ".py",
   "mimetype": "text/x-python",
   "name": "python",
   "nbconvert_exporter": "python",
   "pygments_lexer": "ipython3",
   "version": "3.7.3"
  }
 },
 "nbformat": 4,
 "nbformat_minor": 2
}
